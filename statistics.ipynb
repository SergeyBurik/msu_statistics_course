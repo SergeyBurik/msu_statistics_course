{
 "cells": [
  {
   "cell_type": "code",
   "execution_count": 1,
   "id": "c35ba1c1-b63e-4704-90fd-82cd6924c8a3",
   "metadata": {
    "id": "c35ba1c1-b63e-4704-90fd-82cd6924c8a3"
   },
   "outputs": [],
   "source": [
    "import pandas as pd\n",
    "import numpy as np\n",
    "import matplotlib.pyplot as plt\n",
    "from scipy import stats\n",
    "import seaborn as sns\n",
    "from matplotlib.ticker import PercentFormatter"
   ]
  },
  {
   "cell_type": "code",
   "execution_count": 2,
   "id": "4cda276e-4fc5-4ddb-9e01-4a2d76e6bc2d",
   "metadata": {
    "id": "4cda276e-4fc5-4ddb-9e01-4a2d76e6bc2d"
   },
   "outputs": [],
   "source": [
    "df = pd.read_csv('flights_NY.csv')"
   ]
  },
  {
   "cell_type": "code",
   "execution_count": 3,
   "id": "18e26887-fe4b-4c17-ac41-a025f4f3db6d",
   "metadata": {
    "colab": {
     "base_uri": "https://localhost:8080/",
     "height": 206
    },
    "id": "18e26887-fe4b-4c17-ac41-a025f4f3db6d",
    "outputId": "f7e4413a-1c8a-4ad2-ac99-793b02d5d3e9"
   },
   "outputs": [
    {
     "data": {
      "text/html": [
       "<div>\n",
       "<style scoped>\n",
       "    .dataframe tbody tr th:only-of-type {\n",
       "        vertical-align: middle;\n",
       "    }\n",
       "\n",
       "    .dataframe tbody tr th {\n",
       "        vertical-align: top;\n",
       "    }\n",
       "\n",
       "    .dataframe thead th {\n",
       "        text-align: right;\n",
       "    }\n",
       "</style>\n",
       "<table border=\"1\" class=\"dataframe\">\n",
       "  <thead>\n",
       "    <tr style=\"text-align: right;\">\n",
       "      <th></th>\n",
       "      <th>year</th>\n",
       "      <th>month</th>\n",
       "      <th>day</th>\n",
       "      <th>dep_time</th>\n",
       "      <th>dep_delay</th>\n",
       "      <th>arr_time</th>\n",
       "      <th>arr_delay</th>\n",
       "      <th>carrier</th>\n",
       "      <th>tailnum</th>\n",
       "      <th>flight</th>\n",
       "      <th>origin</th>\n",
       "      <th>dest</th>\n",
       "      <th>air_time</th>\n",
       "      <th>distance</th>\n",
       "    </tr>\n",
       "  </thead>\n",
       "  <tbody>\n",
       "    <tr>\n",
       "      <th>0</th>\n",
       "      <td>2013</td>\n",
       "      <td>1</td>\n",
       "      <td>1</td>\n",
       "      <td>517.0</td>\n",
       "      <td>2.0</td>\n",
       "      <td>830.0</td>\n",
       "      <td>11.0</td>\n",
       "      <td>UA</td>\n",
       "      <td>N14228</td>\n",
       "      <td>1545</td>\n",
       "      <td>EWR</td>\n",
       "      <td>IAH</td>\n",
       "      <td>227.0</td>\n",
       "      <td>1400</td>\n",
       "    </tr>\n",
       "    <tr>\n",
       "      <th>1</th>\n",
       "      <td>2013</td>\n",
       "      <td>1</td>\n",
       "      <td>1</td>\n",
       "      <td>533.0</td>\n",
       "      <td>4.0</td>\n",
       "      <td>850.0</td>\n",
       "      <td>20.0</td>\n",
       "      <td>UA</td>\n",
       "      <td>N24211</td>\n",
       "      <td>1714</td>\n",
       "      <td>LGA</td>\n",
       "      <td>IAH</td>\n",
       "      <td>227.0</td>\n",
       "      <td>1416</td>\n",
       "    </tr>\n",
       "    <tr>\n",
       "      <th>2</th>\n",
       "      <td>2013</td>\n",
       "      <td>1</td>\n",
       "      <td>1</td>\n",
       "      <td>542.0</td>\n",
       "      <td>2.0</td>\n",
       "      <td>923.0</td>\n",
       "      <td>33.0</td>\n",
       "      <td>AA</td>\n",
       "      <td>N619AA</td>\n",
       "      <td>1141</td>\n",
       "      <td>JFK</td>\n",
       "      <td>MIA</td>\n",
       "      <td>160.0</td>\n",
       "      <td>1089</td>\n",
       "    </tr>\n",
       "    <tr>\n",
       "      <th>3</th>\n",
       "      <td>2013</td>\n",
       "      <td>1</td>\n",
       "      <td>1</td>\n",
       "      <td>544.0</td>\n",
       "      <td>-1.0</td>\n",
       "      <td>1004.0</td>\n",
       "      <td>-18.0</td>\n",
       "      <td>B6</td>\n",
       "      <td>N804JB</td>\n",
       "      <td>725</td>\n",
       "      <td>JFK</td>\n",
       "      <td>BQN</td>\n",
       "      <td>183.0</td>\n",
       "      <td>1576</td>\n",
       "    </tr>\n",
       "    <tr>\n",
       "      <th>4</th>\n",
       "      <td>2013</td>\n",
       "      <td>1</td>\n",
       "      <td>1</td>\n",
       "      <td>554.0</td>\n",
       "      <td>-6.0</td>\n",
       "      <td>812.0</td>\n",
       "      <td>-25.0</td>\n",
       "      <td>DL</td>\n",
       "      <td>N668DN</td>\n",
       "      <td>461</td>\n",
       "      <td>LGA</td>\n",
       "      <td>ATL</td>\n",
       "      <td>116.0</td>\n",
       "      <td>762</td>\n",
       "    </tr>\n",
       "  </tbody>\n",
       "</table>\n",
       "</div>"
      ],
      "text/plain": [
       "   year  month  day  dep_time  dep_delay  arr_time  arr_delay carrier tailnum  \\\n",
       "0  2013      1    1     517.0        2.0     830.0       11.0      UA  N14228   \n",
       "1  2013      1    1     533.0        4.0     850.0       20.0      UA  N24211   \n",
       "2  2013      1    1     542.0        2.0     923.0       33.0      AA  N619AA   \n",
       "3  2013      1    1     544.0       -1.0    1004.0      -18.0      B6  N804JB   \n",
       "4  2013      1    1     554.0       -6.0     812.0      -25.0      DL  N668DN   \n",
       "\n",
       "   flight origin dest  air_time  distance  \n",
       "0    1545    EWR  IAH     227.0      1400  \n",
       "1    1714    LGA  IAH     227.0      1416  \n",
       "2    1141    JFK  MIA     160.0      1089  \n",
       "3     725    JFK  BQN     183.0      1576  \n",
       "4     461    LGA  ATL     116.0       762  "
      ]
     },
     "execution_count": 3,
     "metadata": {},
     "output_type": "execute_result"
    }
   ],
   "source": [
    "df.head()"
   ]
  },
  {
   "cell_type": "code",
   "execution_count": 4,
   "id": "8a7dcb78-3ea1-4853-8a26-8b123b1eb9cc",
   "metadata": {
    "colab": {
     "base_uri": "https://localhost:8080/"
    },
    "id": "8a7dcb78-3ea1-4853-8a26-8b123b1eb9cc",
    "outputId": "c1f1deec-3327-48ba-f943-81c2d21d7d47"
   },
   "outputs": [
    {
     "data": {
      "text/plain": [
       "336776"
      ]
     },
     "execution_count": 4,
     "metadata": {},
     "output_type": "execute_result"
    }
   ],
   "source": [
    "df.shape[0]"
   ]
  },
  {
   "cell_type": "code",
   "execution_count": 5,
   "id": "e1bd8d3b-8dd4-40f3-8f8a-a0a2712f47d2",
   "metadata": {
    "colab": {
     "base_uri": "https://localhost:8080/"
    },
    "id": "e1bd8d3b-8dd4-40f3-8f8a-a0a2712f47d2",
    "outputId": "2d960bb1-3a4e-4937-c218-c7b49fe1b3fb"
   },
   "outputs": [
    {
     "data": {
      "text/plain": [
       "327346"
      ]
     },
     "execution_count": 5,
     "metadata": {},
     "output_type": "execute_result"
    }
   ],
   "source": [
    "df = df.dropna()\n",
    "df.shape[0]"
   ]
  },
  {
   "cell_type": "code",
   "execution_count": null,
   "id": "8e42f6de-a711-4673-af3f-446bf3732cc6",
   "metadata": {
    "id": "8e42f6de-a711-4673-af3f-446bf3732cc6",
    "outputId": "a628acd9-9402-4d07-fbe7-98d440e3cd12"
   },
   "outputs": [],
   "source": [
    "\"\"\"\n",
    "1. По каждой авиакомпании оцените вероятность того, что задержка прилета будет положительной и\n",
    "нарисуйте график, показывающий распределение этой вероятности по авиакомпаниям.\n",
    "\"\"\"\n",
    "carriers = sorted(df['carrier'].unique())\n",
    "delaysCount = {\"carriers\": [], \"probability\": []}\n",
    "for carrier in carriers:\n",
    "    carrierFlights = df.loc[df['carrier'] == carrier]\n",
    "    carriersFlightsDelayed = carrierFlights.loc[carrierFlights['arr_delay'] > 0]\n",
    "    delaysCount[\"carriers\"].append(carrier)\n",
    "    delaysCount[\"probability\"].append(carriersFlightsDelayed.shape[0] / carrierFlights.shape[0])"
   ]
  },
  {
   "cell_type": "code",
   "execution_count": null,
   "id": "7d587a45-d4ed-4057-a516-aa029bd01982",
   "metadata": {
    "id": "7d587a45-d4ed-4057-a516-aa029bd01982",
    "outputId": "64201fa5-10e0-4ee1-cf04-be3383f66fc4"
   },
   "outputs": [],
   "source": [
    "delayProbability = pd.DataFrame(delaysCount)\n",
    "ax = delayProbability.plot.bar(x='carriers', y='probability', rot=0)"
   ]
  },
  {
   "cell_type": "code",
   "execution_count": null,
   "id": "81fb1c94-4eca-42a5-91df-1e8f4fa0c607",
   "metadata": {
    "id": "81fb1c94-4eca-42a5-91df-1e8f4fa0c607",
    "outputId": "2f79254b-736a-4155-ed28-ee40807a3bba"
   },
   "outputs": [],
   "source": [
    "\"\"\"\n",
    "2. Постройте гистограмму расстояния перелета distance.\n",
    "Выделите на ней три группы перелетов: короткие, средние и длинные.\n",
    "Какие значения distance разумно выбрать в качестве границы, разделяющей короткие.\n",
    "средние и длинные перелеты? Куда летят самолеты в группе длинных перелетов?\n",
    "Найдите среднее время задержки вылета в каждой из трех выделенных групп.\n",
    "\"\"\"\n",
    "df.hist(column='distance', bins=70, density=True)"
   ]
  },
  {
   "cell_type": "code",
   "execution_count": null,
   "id": "45cde3fe-7c79-4cd0-964b-55947226804a",
   "metadata": {
    "id": "45cde3fe-7c79-4cd0-964b-55947226804a"
   },
   "outputs": [],
   "source": [
    "# short distance flights < 1200 miles\n",
    "# middle distance flights from 1200 miles to 3000 miles\n",
    "# long distance flights > 3000 miles"
   ]
  },
  {
   "cell_type": "code",
   "execution_count": null,
   "id": "1f8a2998-ad1b-4be0-8bc5-f6d41666e040",
   "metadata": {
    "id": "1f8a2998-ad1b-4be0-8bc5-f6d41666e040",
    "outputId": "3ac00074-2b1b-40ec-b0e4-a90c2932a13c"
   },
   "outputs": [],
   "source": [
    "longDistanceFlights = df.loc[df['distance'] > 3000]\n",
    "print(f\"Long distance destinations: {longDistanceFlights['dest'].unique()}\")"
   ]
  },
  {
   "cell_type": "code",
   "execution_count": null,
   "id": "7df8e932-9c1c-4c03-b2a3-4c445fb3c4e6",
   "metadata": {
    "id": "7df8e932-9c1c-4c03-b2a3-4c445fb3c4e6",
    "outputId": "5d81bc55-6304-4345-ccaf-14b4f3074e5b"
   },
   "outputs": [],
   "source": [
    "print(\"Short distance flights delay:\", df.loc[df['distance'] < 1200]['arr_delay'].mean())\n",
    "print(\"Medium distance flights delay:\", df.loc[(df['distance'] > 1200) & (df['distance'] < 3000)]['arr_delay'].mean())\n",
    "print(\"Long distance flights delay:\", longDistanceFlights['arr_delay'].mean())"
   ]
  },
  {
   "cell_type": "code",
   "execution_count": null,
   "id": "9325388f-0e80-489b-a057-1f7c5937e2a6",
   "metadata": {
    "id": "9325388f-0e80-489b-a057-1f7c5937e2a6"
   },
   "outputs": [],
   "source": [
    "\"\"\"\n",
    "3. Нарисуйте график среднего времени задержки вылета по месяцам и отметьте на\n",
    "нем границы доверительных интервалов с уровнем доверия 0.95.\n",
    "С помощью подходящего статистического теста проверьте, можно ли принять гипотезу\n",
    " о равенстве средних в январе и феврале на уровне значимости 0.05?\n",
    "На уровне значимости 0.01?\n",
    "\"\"\"\n",
    "delaysByMonth = {\"month\": list(range(1, 13)), \"delay\": []}\n",
    "for month in range(1, 13):\n",
    "    delaysByMonth[\"delay\"].append(df.loc[df['month'] == month]['arr_delay'].mean())"
   ]
  },
  {
   "cell_type": "code",
   "execution_count": null,
   "id": "1ba68b07-9cd5-46d0-aac7-ea53b1960789",
   "metadata": {
    "id": "1ba68b07-9cd5-46d0-aac7-ea53b1960789",
    "outputId": "5a5378ac-c44d-45c5-f7d6-9683d3262af9"
   },
   "outputs": [],
   "source": [
    "delay = pd.DataFrame(delaysByMonth)\n",
    "ax = delay.plot.bar(x='month', y='delay', rot=0)"
   ]
  },
  {
   "cell_type": "code",
   "execution_count": null,
   "id": "c18f0397",
   "metadata": {
    "id": "c18f0397",
    "outputId": "cb7d2144-33c5-4569-939a-bf57d3d0fbd4"
   },
   "outputs": [],
   "source": [
    "grouped_delays = df.groupby('month')['dep_delay'].mean().reset_index()\n",
    "grouped_delays.columns = ['month', 'average_delay_time']\n",
    "\n",
    "std_error = stats.sem(grouped_delays.average_delay_time)\n",
    "\n",
    "lower_bound = grouped_delays.average_delay_time - std_error  *  stats.t.ppf((1 + 0.975) / 2, len(grouped_delays.average_delay_time) - 1)\n",
    "upper_bound = grouped_delays.average_delay_time + std_error  *  stats.t.ppf((1 + 0.975) / 2, len(grouped_delays.average_delay_time) - 1)\n",
    "\n",
    "plt.plot(grouped_delays.average_delay_time, label='Mean values')\n",
    "\n",
    "# Adding confidence interval boundaries\n",
    "plt.fill_between(range(len(grouped_delays.average_delay_time)), lower_bound, upper_bound, alpha=0.05, color='blue')\n",
    "plt.xlabel('Month')\n",
    "plt.ylabel('Values')\n",
    "plt.title('Confidence Intervals with Mean Values')\n",
    "plt.show()"
   ]
  },
  {
   "cell_type": "code",
   "execution_count": null,
   "id": "f8c19ef6",
   "metadata": {
    "id": "f8c19ef6",
    "outputId": "0a72b1aa-36a1-4d87-b68d-f279c12fc64b"
   },
   "outputs": [],
   "source": [
    "grouped_delays.head()"
   ]
  },
  {
   "cell_type": "code",
   "execution_count": null,
   "id": "ce338d66",
   "metadata": {
    "id": "ce338d66",
    "outputId": "a49000c8-d7cc-4a80-e0ee-af3012df0a04"
   },
   "outputs": [],
   "source": [
    "january_data = grouped_delays.loc[grouped_delays['month'] == 1]['average_delay_time']\n",
    "february_data = grouped_delays.loc[grouped_delays['month'] == 2]['average_delay_time']\n",
    "# Проверяем гипотезу на уровне значимости 0.05\n",
    "t_stat, p_value = stats.ttest_ind(january_data, february_data)\n",
    "print(\"При уровне значимости 0.01 гипотеза о равенстве средних \" + (\"принимается.\" if p_value > 0.05 else \"отвергается.\"))\n",
    "# Проверяем гипотезу на уровне значимости 0.01\n",
    "t_stat, p_value = stats.ttest_ind(january_data, february_data, alternative='less')\n",
    "print(\"При уровне значимости 0.01 гипотеза о равенстве средних \" + (\"принимается.\" if p_value > 0.01 else \"отвергается.\"))\n"
   ]
  },
  {
   "cell_type": "code",
   "execution_count": null,
   "id": "4827b169-0e5e-4c44-aba3-8f71a4c6bb95",
   "metadata": {
    "id": "4827b169-0e5e-4c44-aba3-8f71a4c6bb95",
    "outputId": "1d9c9c8c-6e6f-42df-eee6-6197d2d12127"
   },
   "outputs": [],
   "source": [
    "\"\"\" 4. Найдите коэффициент корреляции между расстоянием distance и временем полета air_time.\n",
    "Постройте точечную диаграмму в осях distance (х) и air_time (y).\n",
    "Найдите коэффициенты линейной регрессии и нанесите полученную прямую на график.\n",
    "Как можно интерпретировать смысл коэффициентов полученной линейной модели?\n",
    "\"\"\"\n",
    "ax1 = df.plot.scatter(x='distance', y='air_time')"
   ]
  },
  {
   "cell_type": "code",
   "execution_count": null,
   "id": "1e9aeffe-38fa-4200-aebd-b2a4193ec9af",
   "metadata": {},
   "outputs": [],
   "source": [
    "# calculate correlation coefficient = (mean(xy) - mean(x) * mean(y)) / (deviation(x) * deviation(y))\n",
    "x_y_mean = 0\n",
    "x_mean = 0\n",
    "y_mean = 0\n",
    "x_deviation = 0\n",
    "y_deviation = 0\n",
    "N = df.shape[0]\n",
    "for x, y in zip(df['distance'], df['air_time']):\n",
    "    x_y_mean += x * y\n",
    "    x_mean += x\n",
    "    y_mean += y\n",
    "    x_deviation += x ** 2\n",
    "    y_deviation += y ** 2\n",
    "    \n",
    "x_y_mean /= N\n",
    "x_mean /= N\n",
    "y_mean /= N\n",
    "x_deviation /= N\n",
    "x_deviation = (x_deviation - x_mean ** 2) ** 0.5\n",
    "y_deviation /= N\n",
    "y_deviation = (y_deviation - y_mean ** 2) ** 0.5\n",
    "print(f\"Correlation coefficient: {(x_y_mean - x_mean * y_mean) / (x_deviation * y_deviation)}\")"
   ]
  },
  {
   "cell_type": "code",
   "execution_count": null,
   "id": "d3227185-8d13-4545-9051-284328852892",
   "metadata": {
    "id": "d3227185-8d13-4545-9051-284328852892",
    "outputId": "aa077066-4b1a-4866-8b10-3ea7b493e9ab"
   },
   "outputs": [],
   "source": [
    "# check correlation coefficient using pandas method .corr()\n",
    "df[[\"distance\", \"air_time\"]].corr(method='pearson')\n",
    "# results are the same"
   ]
  },
  {
   "cell_type": "code",
   "execution_count": null,
   "id": "f3f97269-7ff3-4de0-9715-67c004f4f95c",
   "metadata": {
    "id": "f3f97269-7ff3-4de0-9715-67c004f4f95c",
    "outputId": "5e87af88-a0fe-41e0-9d79-05039f9c4c17"
   },
   "outputs": [],
   "source": [
    "# to find coefficitents of a linear regression, we will use the method of least squares\n",
    "x_sum = 0\n",
    "squared_x_sum = 0\n",
    "y_sum = 0\n",
    "x_y_sum = 0\n",
    "N = df.shape[0]\n",
    "for x, y in zip(df['distance'], df['air_time']):\n",
    "    x_sum += x\n",
    "    squared_x_sum += x ** 2\n",
    "    y_sum += y\n",
    "    x_y_sum += x * y\n",
    "# according to the Cramer's rule\n",
    "det = (squared_x_sum * N) - (x_sum ** 2)\n",
    "det_a = (x_y_sum * N) - (x_sum * y_sum)\n",
    "a = det_a / det\n",
    "\n",
    "det_b = (squared_x_sum * y_sum) - (x_y_sum * x_sum)\n",
    "b = det_b / det\n",
    "print(f\"Coefficients of a linear regression y = ax + b: {a}, {b}\")"
   ]
  },
  {
   "cell_type": "code",
   "execution_count": null,
   "id": "2d434b36-d237-4b75-b9e3-9f70bf34d2fb",
   "metadata": {},
   "outputs": [],
   "source": [
    "for key, el in df.head(10).iterrows():\n",
    "    pred = el[\"distance\"] * a + b\n",
    "    print(f'x: {el[\"distance\"]}, y: {el[\"air_time\"]} ->  prediction: {pred}, relative error(%): {abs(pred - el[\"air_time\"]) / el[\"air_time\"] * 100}')"
   ]
  },
  {
   "cell_type": "code",
   "execution_count": null,
   "id": "706808ed-1663-4e34-ab8d-a4f8e5bb11e2",
   "metadata": {
    "id": "706808ed-1663-4e34-ab8d-a4f8e5bb11e2",
    "outputId": "8512e7cb-e954-4458-afcf-2a333cc711f8"
   },
   "outputs": [],
   "source": [
    "x = list(range(df[\"distance\"].min(), df[\"distance\"].max()))\n",
    "plt.plot(x, [a*el + b for el in x], color=\"orange\", linewidth=4)\n",
    "plt.scatter(df[\"distance\"], df[\"air_time\"])\n",
    "\n",
    "plt.xlabel('Distance (miles)')\n",
    "plt.ylabel('Air time (min)')\n",
    "plt.show()"
   ]
  },
  {
   "cell_type": "code",
   "execution_count": null,
   "id": "-CthA2LtrMMZ",
   "metadata": {
    "id": "-CthA2LtrMMZ"
   },
   "outputs": [],
   "source": [
    "\"\"\"\n",
    "Интерпретация смысла коэффициентов линейной регрессии: коэффициент наклона ≈ 0.12,\n",
    "таким образом при увеличении дистанции рейса, например, на 1000 миль время рейса увеличится на 120 минут.\n",
    "То есть, средняя скорость самолета ≈ 500 миль/ч.\n",
    "В случае если, дистанция рейса = 0 миль, значение линейной регрессии 0.12 * 0 + 18 = 18 минут.\n",
    "Можно предположить, о том что среднее время подготовки рейса (инструктаж по правилам безопасности, выезд на ВПП и т.д) равняется 18 минут.\n",
    "\"\"\""
   ]
  },
  {
   "cell_type": "code",
   "execution_count": null,
   "id": "1n8jnoo6puPB",
   "metadata": {
    "id": "1n8jnoo6puPB"
   },
   "outputs": [],
   "source": [
    "\"\"\" 5. Постройте нормированную гистограмму распределения задержки прилета по\n",
    "тем рейсам, которые вылетели в пределах +/-15 минут от времени в расписании.\n",
    "Сделайте предположение о том, каким распределением может описываться полученная\n",
    "гистограмма, оцените параметры этого распределения и нанесите график плотности\n",
    "на график с гистограммой.\n",
    "\"\"\"\n",
    "\n",
    "df = df.loc[(df['dep_delay'] >= -15) & (df['dep_delay'] <= 15)]\n",
    "df = df.reset_index(drop=True)"
   ]
  },
  {
   "cell_type": "code",
   "execution_count": null,
   "id": "Pl_mHU-FqdS9",
   "metadata": {
    "colab": {
     "base_uri": "https://localhost:8080/",
     "height": 489
    },
    "id": "Pl_mHU-FqdS9",
    "outputId": "ed0407b9-e85d-47b9-82a5-8b9c55c1a69b"
   },
   "outputs": [],
   "source": [
    "sns.histplot(df['arr_delay'], kde=True, bins=int(180/2))\n",
    "# Percent formatting \n",
    "plt.gca().yaxis.set_major_formatter(PercentFormatter(20000))\n",
    "# Оси\n",
    "plt.title('Arrival delay diagram')\n",
    "plt.xlabel('Delay (min)')\n",
    "plt.ylabel('% of flights')"
   ]
  },
  {
   "cell_type": "code",
   "execution_count": null,
   "id": "z0qr1JLlqfTj",
   "metadata": {
    "id": "z0qr1JLlqfTj"
   },
   "outputs": [],
   "source": [
    "# Calculating distribution parameters\n",
    "m = df['arr_delay'].mean().round(2)\n",
    "v = df['arr_delay'].var().round(2)"
   ]
  },
  {
   "cell_type": "code",
   "execution_count": null,
   "id": "jWSuio3DqqMI",
   "metadata": {
    "colab": {
     "base_uri": "https://localhost:8080/"
    },
    "id": "jWSuio3DqqMI",
    "outputId": "f70158a7-7e7f-4918-f14f-93d75e51eeed"
   },
   "outputs": [],
   "source": [
    "print(\"Нормальное распределение с матожиданием\", m, \", дисперсией\", v, \"(мин)\")"
   ]
  },
  {
   "cell_type": "code",
   "execution_count": null,
   "id": "WLtFf0YdJ1es",
   "metadata": {
    "colab": {
     "base_uri": "https://localhost:8080/",
     "height": 53
    },
    "executionInfo": {
     "elapsed": 6,
     "status": "ok",
     "timestamp": 1716228006250,
     "user": {
      "displayName": "Станислав Енягин",
      "userId": "14666972563530056075"
     },
     "user_tz": -180
    },
    "id": "WLtFf0YdJ1es",
    "outputId": "50a6ce68-dabf-4196-8e56-e79808395382"
   },
   "outputs": [],
   "source": [
    "\"\"\" 6. Постройте модель логистической регрессии, которая будет предсказывать, что задержка прилета составит более 15 минут.\n",
    "Какие признаки вы будете использовать?\n",
    "Какие новые признаки, на основе имеющихся, можете предложить?\n",
    "Какова точность полученной модели (precision, recall, accuracy)?\n",
    "\"\"\""
   ]
  },
  {
   "cell_type": "code",
   "execution_count": null,
   "id": "30B206aIKV_0",
   "metadata": {
    "colab": {
     "base_uri": "https://localhost:8080/",
     "height": 105
    },
    "executionInfo": {
     "elapsed": 221,
     "status": "ok",
     "timestamp": 1716228435302,
     "user": {
      "displayName": "Станислав Енягин",
      "userId": "14666972563530056075"
     },
     "user_tz": -180
    },
    "id": "30B206aIKV_0",
    "outputId": "8ea106d5-6405-417a-e239-488096c330ab"
   },
   "outputs": [],
   "source": [
    "\"\"\" Исключаем следующие признаки:\n",
    "1) dep_time, arr_time, так как время вылета в общем случае не будет влиять на задержку\n",
    "2) arr_delay, значения данного столбца были преобразованы в arr_delay_binary (0, если задержка меньше 15 минут, 1 в противном случае) и использованы как ответы на задачу\n",
    "3) tailnum\n",
    "4) day, year, так как данные значения не должны играть существенной роли, в отличие от месяца (в разные месяцы в среднем разная погода, что может сказаться на задержках)\n",
    "5) flight, origin, dest. Опять же, данные не играют роли.\n",
    "Также можно было добавить признак time_of_day, так как, возможно, в разные временные промежутки дня статистика будет меняться.\n",
    "\"\"\""
   ]
  },
  {
   "cell_type": "code",
   "execution_count": null,
   "id": "7wSRFZHWL8tm",
   "metadata": {
    "colab": {
     "base_uri": "https://localhost:8080/",
     "height": 356
    },
    "executionInfo": {
     "elapsed": 369,
     "status": "error",
     "timestamp": 1716228729722,
     "user": {
      "displayName": "Станислав Енягин",
      "userId": "14666972563530056075"
     },
     "user_tz": -180
    },
    "id": "7wSRFZHWL8tm",
    "outputId": "4875c51d-22ff-47d8-806a-7797c138838b"
   },
   "outputs": [],
   "source": [
    "import pandas as pd\n",
    "from sklearn.linear_model import LogisticRegression\n",
    "from sklearn.model_selection import train_test_split\n",
    "from sklearn.metrics import precision_score, recall_score, accuracy_score\n",
    "\n",
    "data = pd.read_csv('flights_NY.csv')\n",
    "data = data.dropna()\n",
    "\n",
    "# add new binary feature: 1 if df[\"arr_delay\"] > 15 else 0\n",
    "data['arr_delay_binary'] = (data['arr_delay'] > 15).astype(int)\n",
    "\n",
    "data = data.drop('dep_time', axis=1)\n",
    "data = data.drop('arr_time', axis=1)\n",
    "data = data.drop('arr_delay', axis=1)\n",
    "data = data.drop('tailnum', axis=1)\n",
    "data = data.drop('day', axis=1)\n",
    "data = data.drop('year', axis=1)\n",
    "data = data.drop('flight', axis=1)\n",
    "data = data.drop('origin', axis=1)\n",
    "data = data.drop('dest', axis=1)\n",
    "\n",
    "# factorize carrier\n",
    "data['carrier'], uniques = pd.factorize(data['carrier'])\n",
    "\n",
    "X = data.drop('arr_delay_binary', axis=1)\n",
    "y = data['arr_delay_binary']\n",
    "\n",
    "X_train, X_test, y_train, y_test = train_test_split(X, y, train_size=0.75, test_size=0.25, random_state=85)\n",
    "\n",
    "model = LogisticRegression(solver='lbfgs', max_iter=1000)\n",
    "model.fit(X_train, y_train)\n",
    "y_pred = model.predict(X_test)\n",
    "\n",
    "# evaluating model\n",
    "precision = precision_score(y_test, y_pred)\n",
    "recall = recall_score(y_test, y_pred)\n",
    "accuracy = accuracy_score(y_test, y_pred)\n",
    "\n",
    "print(\"Precision:\", precision)\n",
    "print(\"Recall:\", recall)\n",
    "print(\"Accuracy:\", accuracy)"
   ]
  }
 ],
 "metadata": {
  "colab": {
   "provenance": []
  },
  "kernelspec": {
   "display_name": "Python 3 (ipykernel)",
   "language": "python",
   "name": "python3"
  },
  "language_info": {
   "codemirror_mode": {
    "name": "ipython",
    "version": 3
   },
   "file_extension": ".py",
   "mimetype": "text/x-python",
   "name": "python",
   "nbconvert_exporter": "python",
   "pygments_lexer": "ipython3",
   "version": "3.11.4"
  }
 },
 "nbformat": 4,
 "nbformat_minor": 5
}
